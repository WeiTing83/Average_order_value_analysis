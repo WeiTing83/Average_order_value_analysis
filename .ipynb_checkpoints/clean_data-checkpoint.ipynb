{
 "cells": [
  {
   "cell_type": "code",
   "execution_count": 1,
   "id": "09e463af",
   "metadata": {},
   "outputs": [],
   "source": [
    "import pandas as pd\n",
    "import numpy as np\n",
    "import statistics\n",
    "import seaborn as sns\n",
    "import matplotlib.pyplot as plt\n",
    "from scipy import stats\n",
    "from scipy.stats import norm"
   ]
  },
  {
   "cell_type": "code",
   "execution_count": 2,
   "id": "7887cf80",
   "metadata": {},
   "outputs": [
    {
     "data": {
      "text/html": [
       "<div>\n",
       "<style scoped>\n",
       "    .dataframe tbody tr th:only-of-type {\n",
       "        vertical-align: middle;\n",
       "    }\n",
       "\n",
       "    .dataframe tbody tr th {\n",
       "        vertical-align: top;\n",
       "    }\n",
       "\n",
       "    .dataframe thead th {\n",
       "        text-align: right;\n",
       "    }\n",
       "</style>\n",
       "<table border=\"1\" class=\"dataframe\">\n",
       "  <thead>\n",
       "    <tr style=\"text-align: right;\">\n",
       "      <th></th>\n",
       "      <th>order_id</th>\n",
       "      <th>shop_id</th>\n",
       "      <th>user_id</th>\n",
       "      <th>order_amount</th>\n",
       "      <th>total_items</th>\n",
       "      <th>payment_method</th>\n",
       "      <th>created_at</th>\n",
       "    </tr>\n",
       "  </thead>\n",
       "  <tbody>\n",
       "    <tr>\n",
       "      <th>0</th>\n",
       "      <td>1</td>\n",
       "      <td>53</td>\n",
       "      <td>746</td>\n",
       "      <td>224</td>\n",
       "      <td>2</td>\n",
       "      <td>cash</td>\n",
       "      <td>2017-03-13 12:36:56</td>\n",
       "    </tr>\n",
       "    <tr>\n",
       "      <th>1</th>\n",
       "      <td>2</td>\n",
       "      <td>92</td>\n",
       "      <td>925</td>\n",
       "      <td>90</td>\n",
       "      <td>1</td>\n",
       "      <td>cash</td>\n",
       "      <td>2017-03-03 17:38:52</td>\n",
       "    </tr>\n",
       "    <tr>\n",
       "      <th>2</th>\n",
       "      <td>3</td>\n",
       "      <td>44</td>\n",
       "      <td>861</td>\n",
       "      <td>144</td>\n",
       "      <td>1</td>\n",
       "      <td>cash</td>\n",
       "      <td>2017-03-14 4:23:56</td>\n",
       "    </tr>\n",
       "    <tr>\n",
       "      <th>3</th>\n",
       "      <td>4</td>\n",
       "      <td>18</td>\n",
       "      <td>935</td>\n",
       "      <td>156</td>\n",
       "      <td>1</td>\n",
       "      <td>credit_card</td>\n",
       "      <td>2017-03-26 12:43:37</td>\n",
       "    </tr>\n",
       "    <tr>\n",
       "      <th>4</th>\n",
       "      <td>5</td>\n",
       "      <td>18</td>\n",
       "      <td>883</td>\n",
       "      <td>156</td>\n",
       "      <td>1</td>\n",
       "      <td>credit_card</td>\n",
       "      <td>2017-03-01 4:35:11</td>\n",
       "    </tr>\n",
       "    <tr>\n",
       "      <th>5</th>\n",
       "      <td>6</td>\n",
       "      <td>58</td>\n",
       "      <td>882</td>\n",
       "      <td>138</td>\n",
       "      <td>1</td>\n",
       "      <td>credit_card</td>\n",
       "      <td>2017-03-14 15:25:01</td>\n",
       "    </tr>\n",
       "    <tr>\n",
       "      <th>6</th>\n",
       "      <td>7</td>\n",
       "      <td>87</td>\n",
       "      <td>915</td>\n",
       "      <td>149</td>\n",
       "      <td>1</td>\n",
       "      <td>cash</td>\n",
       "      <td>2017-03-01 21:37:57</td>\n",
       "    </tr>\n",
       "    <tr>\n",
       "      <th>7</th>\n",
       "      <td>8</td>\n",
       "      <td>22</td>\n",
       "      <td>761</td>\n",
       "      <td>292</td>\n",
       "      <td>2</td>\n",
       "      <td>cash</td>\n",
       "      <td>2017-03-08 2:05:38</td>\n",
       "    </tr>\n",
       "    <tr>\n",
       "      <th>8</th>\n",
       "      <td>9</td>\n",
       "      <td>64</td>\n",
       "      <td>914</td>\n",
       "      <td>266</td>\n",
       "      <td>2</td>\n",
       "      <td>debit</td>\n",
       "      <td>2017-03-17 20:56:50</td>\n",
       "    </tr>\n",
       "    <tr>\n",
       "      <th>9</th>\n",
       "      <td>10</td>\n",
       "      <td>52</td>\n",
       "      <td>788</td>\n",
       "      <td>146</td>\n",
       "      <td>1</td>\n",
       "      <td>credit_card</td>\n",
       "      <td>2017-03-30 21:08:26</td>\n",
       "    </tr>\n",
       "  </tbody>\n",
       "</table>\n",
       "</div>"
      ],
      "text/plain": [
       "   order_id  shop_id  user_id  order_amount  total_items payment_method  \\\n",
       "0         1       53      746           224            2           cash   \n",
       "1         2       92      925            90            1           cash   \n",
       "2         3       44      861           144            1           cash   \n",
       "3         4       18      935           156            1    credit_card   \n",
       "4         5       18      883           156            1    credit_card   \n",
       "5         6       58      882           138            1    credit_card   \n",
       "6         7       87      915           149            1           cash   \n",
       "7         8       22      761           292            2           cash   \n",
       "8         9       64      914           266            2          debit   \n",
       "9        10       52      788           146            1    credit_card   \n",
       "\n",
       "            created_at  \n",
       "0  2017-03-13 12:36:56  \n",
       "1  2017-03-03 17:38:52  \n",
       "2   2017-03-14 4:23:56  \n",
       "3  2017-03-26 12:43:37  \n",
       "4   2017-03-01 4:35:11  \n",
       "5  2017-03-14 15:25:01  \n",
       "6  2017-03-01 21:37:57  \n",
       "7   2017-03-08 2:05:38  \n",
       "8  2017-03-17 20:56:50  \n",
       "9  2017-03-30 21:08:26  "
      ]
     },
     "execution_count": 2,
     "metadata": {},
     "output_type": "execute_result"
    }
   ],
   "source": [
    "list=pd.read_csv(\"Data/Data Set - Sheet1.csv\")\n",
    "list.head(10)"
   ]
  },
  {
   "cell_type": "code",
   "execution_count": 3,
   "id": "fb2df84c",
   "metadata": {},
   "outputs": [
    {
     "data": {
      "text/plain": [
       "(5000, 7)"
      ]
     },
     "execution_count": 3,
     "metadata": {},
     "output_type": "execute_result"
    }
   ],
   "source": [
    "# list.dtypes\n",
    "list.shape"
   ]
  },
  {
   "cell_type": "code",
   "execution_count": 4,
   "id": "a355dd4f",
   "metadata": {},
   "outputs": [
    {
     "data": {
      "text/plain": [
       "3145.128"
      ]
     },
     "execution_count": 4,
     "metadata": {},
     "output_type": "execute_result"
    }
   ],
   "source": [
    "statistics.mean(list[\"order_amount\"])"
   ]
  },
  {
   "cell_type": "code",
   "execution_count": 5,
   "id": "f1a5960b",
   "metadata": {},
   "outputs": [
    {
     "data": {
      "text/plain": [
       "count      5000.000000\n",
       "mean       3145.128000\n",
       "std       41282.539349\n",
       "min          90.000000\n",
       "25%         163.000000\n",
       "50%         284.000000\n",
       "75%         390.000000\n",
       "max      704000.000000\n",
       "Name: order_amount, dtype: float64"
      ]
     },
     "execution_count": 5,
     "metadata": {},
     "output_type": "execute_result"
    }
   ],
   "source": [
    "list[\"order_amount\"].describe()"
   ]
  },
  {
   "cell_type": "code",
   "execution_count": 6,
   "id": "014005e6",
   "metadata": {},
   "outputs": [],
   "source": [
    "## using scatterplot to check distribution of the order_amount "
   ]
  },
  {
   "cell_type": "code",
   "execution_count": 7,
   "id": "2eb19e6f",
   "metadata": {},
   "outputs": [
    {
     "data": {
      "image/png": "[encoded data removed]",
      "text/plain": [
       "<Figure size 432x288 with 1 Axes>"
      ]
     },
     "metadata": {
      "needs_background": "light"
     },
     "output_type": "display_data"
    }
   ],
   "source": [
    "# Creating plot\n",
    "fig = plt.figure(figsize =(6, 4))\n",
    "\n",
    "ax=sns.boxplot(x=\"order_amount\", data=list)\n",
    "plt.title('order_amount')\n",
    "plt.show()"
   ]
  },
  {
   "cell_type": "markdown",
   "id": "d59be460",
   "metadata": {},
   "source": [
    "# Z Score"
   ]
  },
  {
   "cell_type": "code",
   "execution_count": 8,
   "id": "b2eb03ad",
   "metadata": {},
   "outputs": [],
   "source": [
    "## outlier is larger than 3 times of standard deviation\n",
    "## using Z score to find the outlier\n",
    "# z= (x-mean)/standard deviation"
   ]
  },
  {
   "cell_type": "code",
   "execution_count": 9,
   "id": "52306fb4",
   "metadata": {},
   "outputs": [
    {
     "data": {
      "text/plain": [
       "array([0.07076648, 0.07401273, 0.07270454, ..., 0.06768982, 0.06761714,\n",
       "       0.06921604])"
      ]
     },
     "execution_count": 9,
     "metadata": {},
     "output_type": "execute_result"
    }
   ],
   "source": [
    "z_scores=np.abs(stats.zscore(list[\"order_amount\"]))\n",
    "z_scores"
   ]
  },
  {
   "cell_type": "code",
   "execution_count": 10,
   "id": "9034a238",
   "metadata": {},
   "outputs": [
    {
     "name": "stdout",
     "output_type": "stream",
     "text": [
      "(array([  15,   60,  520,  691, 1104, 1362, 1436, 1562, 1602, 2153, 2297,\n",
      "       2835, 2969, 3332, 4056, 4646, 4868, 4882], dtype=int64),)\n",
      "15      704000\n",
      "60      704000\n",
      "520     704000\n",
      "691     154350\n",
      "1104    704000\n",
      "1362    704000\n",
      "1436    704000\n",
      "1562    704000\n",
      "1602    704000\n",
      "2153    704000\n",
      "2297    704000\n",
      "2835    704000\n",
      "2969    704000\n",
      "3332    704000\n",
      "4056    704000\n",
      "4646    704000\n",
      "4868    704000\n",
      "4882    704000\n",
      "Name: order_amount, dtype: int64\n"
     ]
    }
   ],
   "source": [
    "threshold = 3\n",
    "print(np.where(z_scores> 3))\n",
    "print(list[\"order_amount\"].loc[z_scores> 3])\n",
    "Outlier_list_Z=list[\"order_amount\"].loc[z_scores> 3]"
   ]
  },
  {
   "cell_type": "code",
   "execution_count": 11,
   "id": "80cea103",
   "metadata": {},
   "outputs": [
    {
     "data": {
      "text/plain": [
       "(4982, 7)"
      ]
     },
     "execution_count": 11,
     "metadata": {},
     "output_type": "execute_result"
    }
   ],
   "source": [
    "# remove outlier\n",
    "clean_data_Z=list[(z_scores<3)]\n",
    "clean_data_Z.shape"
   ]
  },
  {
   "cell_type": "code",
   "execution_count": 12,
   "id": "287611eb",
   "metadata": {},
   "outputs": [
    {
     "data": {
      "image/png": "[encoded data removed]",
      "text/plain": [
       "<Figure size 432x288 with 1 Axes>"
      ]
     },
     "metadata": {
      "needs_background": "light"
     },
     "output_type": "display_data"
    }
   ],
   "source": [
    "fig= plt.figure(figsize =(6, 4))\n",
    "ax=sns.boxplot(x=\"order_amount\", data=clean_data_Z)\n",
    "plt.title('order_amount')\n",
    "plt.show()"
   ]
  },
  {
   "cell_type": "code",
   "execution_count": 13,
   "id": "ff0c8455",
   "metadata": {},
   "outputs": [
    {
     "data": {
      "text/plain": [
       "count      4982.000000\n",
       "mean        723.261742\n",
       "std        4848.500488\n",
       "min          90.000000\n",
       "25%         163.000000\n",
       "50%         284.000000\n",
       "75%         390.000000\n",
       "max      102900.000000\n",
       "Name: order_amount, dtype: float64"
      ]
     },
     "execution_count": 13,
     "metadata": {},
     "output_type": "execute_result"
    }
   ],
   "source": [
    "clean_data_Z[\"order_amount\"].describe()"
   ]
  },
  {
   "cell_type": "code",
   "execution_count": 14,
   "id": "13739ed3",
   "metadata": {},
   "outputs": [],
   "source": [
    "# plot distribution curve\n",
    "\n",
    "# mean = statistics.mean(clean_data_Z[\"order_amount\"])\n",
    "# sd = statistics.stdev(clean_data_Z[\"order_amount\"])\n",
    "# pdf = stats.norm.pdf(clean_data_Z[\"order_amount\"], mean,sd)\n",
    "# fig= plt.figure(figsize =(5, 3))\n",
    "# plt.plot(clean_data_Z[\"order_amount\"],pdf)\n",
    "# plt.show()\n"
   ]
  },
  {
   "cell_type": "code",
   "execution_count": 15,
   "id": "cf95f924",
   "metadata": {},
   "outputs": [],
   "source": [
    "# clean_data_Z.to_csv(\"../Question1/Data/clean_data_Z.csv\")"
   ]
  },
  {
   "cell_type": "markdown",
   "id": "8d2330bc",
   "metadata": {},
   "source": [
    "# IQR"
   ]
  },
  {
   "cell_type": "code",
   "execution_count": 16,
   "id": "02815908",
   "metadata": {},
   "outputs": [
    {
     "name": "stdout",
     "output_type": "stream",
     "text": [
      "227.0\n"
     ]
    }
   ],
   "source": [
    "Q1 = list[\"order_amount\"].quantile(q=.25)\n",
    "Q3 = list[\"order_amount\"].quantile(q=.75)\n",
    "IQR = Q3-Q1\n",
    "lower_bound=Q1 - 1.5 * IQR\n",
    "upper_bound=Q3 + 1.5 * IQR\n",
    "print(IQR)"
   ]
  },
  {
   "cell_type": "code",
   "execution_count": 17,
   "id": "8217cc6c",
   "metadata": {},
   "outputs": [
    {
     "data": {
      "text/plain": [
       "15      704000\n",
       "60      704000\n",
       "99         780\n",
       "136        765\n",
       "160      25725\n",
       "         ...  \n",
       "4918     25725\n",
       "4927       765\n",
       "4952       880\n",
       "4958       865\n",
       "4980       772\n",
       "Name: order_amount, Length: 141, dtype: int64"
      ]
     },
     "execution_count": 17,
     "metadata": {},
     "output_type": "execute_result"
    }
   ],
   "source": [
    "# List outlier\n",
    "outlier_iqr=list[((list[\"order_amount\"] < lower_bound)|(list[\"order_amount\"] > upper_bound))]\n",
    "outlier_list_iqr=outlier_iqr[\"order_amount\"]\n",
    "outlier_list_iqr"
   ]
  },
  {
   "cell_type": "code",
   "execution_count": 18,
   "id": "eacfbf12",
   "metadata": {},
   "outputs": [
    {
     "data": {
      "text/plain": [
       "(4859, 7)"
      ]
     },
     "execution_count": 18,
     "metadata": {},
     "output_type": "execute_result"
    }
   ],
   "source": [
    "# remove outlier and crate new table\n",
    "clean_data_IQR=list[~((list[\"order_amount\"] < lower_bound)|(list[\"order_amount\"] > upper_bound))]\n",
    "clean_data_IQR.shape"
   ]
  },
  {
   "cell_type": "code",
   "execution_count": 19,
   "id": "7aaa9db2",
   "metadata": {},
   "outputs": [
    {
     "data": {
      "image/png": "[encoded data removed]",
      "text/plain": [
       "<Figure size 432x288 with 1 Axes>"
      ]
     },
     "metadata": {
      "needs_background": "light"
     },
     "output_type": "display_data"
    }
   ],
   "source": [
    "# boxplot\n",
    "fig= plt.figure(figsize =(6, 4))\n",
    "\n",
    "ax=sns.boxplot(x=\"order_amount\", data=clean_data_IQR)\n",
    "plt.title('order_amount')\n",
    "plt.show()"
   ]
  },
  {
   "cell_type": "code",
   "execution_count": 20,
   "id": "43274ac4",
   "metadata": {},
   "outputs": [
    {
     "data": {
      "image/png": "[encoded data removed]",
      "text/plain": [
       "<Figure size 432x288 with 1 Axes>"
      ]
     },
     "metadata": {
      "needs_background": "light"
     },
     "output_type": "display_data"
    }
   ],
   "source": [
    "# distribution curve\n",
    "\n",
    "mean = statistics.mean(clean_data_IQR[\"order_amount\"])\n",
    "sd = statistics.stdev(clean_data_IQR[\"order_amount\"])\n",
    "pdf = stats.norm.pdf(clean_data_IQR[\"order_amount\"], mean,sd)\n",
    "plt.plot(clean_data_IQR[\"order_amount\"], pdf)\n",
    "plt.show()"
   ]
  },
  {
   "cell_type": "code",
   "execution_count": 21,
   "id": "f7a5759b",
   "metadata": {},
   "outputs": [],
   "source": [
    "# clean_data_IQR.to_csv(\"../Question1/Data/clean_data_IQR.csv\")"
   ]
  },
  {
   "cell_type": "code",
   "execution_count": 22,
   "id": "ebe3d67b",
   "metadata": {},
   "outputs": [
    {
     "data": {
      "text/plain": [
       "count    4859.000000\n",
       "mean      293.715374\n",
       "std       144.453395\n",
       "min        90.000000\n",
       "25%       162.000000\n",
       "50%       280.000000\n",
       "75%       380.000000\n",
       "max       730.000000\n",
       "Name: order_amount, dtype: float64"
      ]
     },
     "execution_count": 22,
     "metadata": {},
     "output_type": "execute_result"
    }
   ],
   "source": [
    "clean_data_IQR[\"order_amount\"].describe()"
   ]
  },
  {
   "cell_type": "code",
   "execution_count": 23,
   "id": "dfdaefce",
   "metadata": {},
   "outputs": [
    {
     "name": "stdout",
     "output_type": "stream",
     "text": [
      "Z Score:\n",
      "Outlier_list_Z:\n",
      "15      704000\n",
      "60      704000\n",
      "520     704000\n",
      "691     154350\n",
      "1104    704000\n",
      "1362    704000\n",
      "1436    704000\n",
      "1562    704000\n",
      "1602    704000\n",
      "2153    704000\n",
      "2297    704000\n",
      "2835    704000\n",
      "2969    704000\n",
      "3332    704000\n",
      "4056    704000\n",
      "4646    704000\n",
      "4868    704000\n",
      "4882    704000\n",
      "Name: order_amount, dtype: int64\n",
      "-------------------------\n",
      "IQR:\n",
      "Outlier_list_IQR:\n",
      " 15      704000\n",
      "60      704000\n",
      "99         780\n",
      "136        765\n",
      "160      25725\n",
      "         ...  \n",
      "4918     25725\n",
      "4927       765\n",
      "4952       880\n",
      "4958       865\n",
      "4980       772\n",
      "Name: order_amount, Length: 141, dtype: int64\n",
      "\n"
     ]
    }
   ],
   "source": [
    "# print results at txt file\n",
    "import os\n",
    "file_to_save = os.path.join(\"Data\", \"Outlier_list.txt\")\n",
    "with open(file_to_save, \"w\") as txt_file:\n",
    "    Outlier_list = (\n",
    "        f\"Z Score:\\n\"\n",
    "        f\"Outlier_list_Z:\\n\" \n",
    "        f\"{Outlier_list_Z}\\n\"\n",
    "        f\"-------------------------\\n\"\n",
    "        f\"IQR:\\n\"\n",
    "        f\"Outlier_list_IQR:\\n\" \n",
    "        f\" {outlier_list_iqr}\\n\"\n",
    "                     )\n",
    "    print(Outlier_list)\n",
    "    txt_file.write(Outlier_list)\n",
    " "
   ]
  },
  {
   "cell_type": "code",
   "execution_count": null,
   "id": "d7e060f4",
   "metadata": {},
   "outputs": [],
   "source": []
  }
 ],
 "metadata": {
  "kernelspec": {
   "display_name": "Python 3",
   "language": "python",
   "name": "python3"
  },
  "language_info": {
   "codemirror_mode": {
    "name": "ipython",
    "version": 3
   },
   "file_extension": ".py",
   "mimetype": "text/x-python",
   "name": "python",
   "nbconvert_exporter": "python",
   "pygments_lexer": "ipython3",
   "version": "3.8.8"
  }
 },
 "nbformat": 4,
 "nbformat_minor": 5
}
